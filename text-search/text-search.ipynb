{
 "cells": [
  {
   "cell_type": "markdown",
   "metadata": {},
   "source": [
    "# \"Búsqueda de Texto Personalizada con Azure Search API\""
   ]
  },
  {
   "cell_type": "markdown",
   "metadata": {},
   "source": [
    "### Importamos las librerías básicas necesarias"
   ]
  },
  {
   "cell_type": "code",
   "execution_count": null,
   "metadata": {},
   "outputs": [],
   "source": [
    "from azure.core.credentials import AzureKeyCredential\n",
    "from azure.search.documents import SearchClient\n",
    "from dotenv import load_dotenv\n",
    "import os"
   ]
  },
  {
   "cell_type": "markdown",
   "metadata": {},
   "source": [
    "### Cargamos las credenciales desde el archivo .env\n"
   ]
  },
  {
   "cell_type": "code",
   "execution_count": null,
   "metadata": {},
   "outputs": [],
   "source": [
    "# Load secrets and config from .env file\n",
    "load_dotenv(\"../.env\")\n",
    "\n",
    "# Azure Search API\n",
    "search_service_name = os.getenv(\"SEARCH_SERVICE_NAME\")\n",
    "search_service_key = os.getenv(\"SEARCH_SERVICE_KEY\")\n",
    "search_index_name = os.getenv(\"SEARCH_INDEX_NAME\")\n",
    "search_endpoint = \"https://{}.search.windows.net/\".format(search_service_name)"
   ]
  },
  {
   "cell_type": "markdown",
   "metadata": {},
   "source": [
    "### Configuración del servicio de búsqueda de Azure"
   ]
  },
  {
   "cell_type": "code",
   "execution_count": null,
   "metadata": {},
   "outputs": [],
   "source": [
    "class CreateClient(object):\n",
    "    def __init__(self, endpoint, key, index_name):\n",
    "        self.endpoint = endpoint\n",
    "        self.index_name = index_name\n",
    "        self.key = key\n",
    "        self.credentials = AzureKeyCredential(key)\n",
    "\n",
    "    # Create a SearchClient\n",
    "    def create_search_client(self):\n",
    "        return SearchClient(\n",
    "            endpoint=self.endpoint,\n",
    "            index_name=self.index_name,\n",
    "            credential=self.credentials,\n",
    "        )"
   ]
  },
  {
   "cell_type": "markdown",
   "metadata": {},
   "source": [
    "### Definimos una clase para crear el cliente de búsqueda de Azure\n"
   ]
  },
  {
   "cell_type": "code",
   "execution_count": null,
   "metadata": {},
   "outputs": [],
   "source": [
    "base_client = CreateClient(search_endpoint, search_service_key, search_index_name)\n",
    "search_client = base_client.create_search_client()"
   ]
  },
  {
   "cell_type": "markdown",
   "metadata": {},
   "source": [
    "### Instanciamos la clase y creamos el cliente de búsqueda\n"
   ]
  },
  {
   "cell_type": "code",
   "execution_count": null,
   "metadata": {},
   "outputs": [],
   "source": [
    "search_client = base_client.create_search_client()\n",
    "results = search_client.search(search_text=\"SEN\", include_total_count=True)\n",
    "print('Total Documents Matching Query:', results.get_count())\n",
    "for result in results:\n",
    "    print(\"{}: {}\".format(result[\"id\"], result[\"filename\"]))\n"
   ]
  },
  {
   "cell_type": "markdown",
   "metadata": {},
   "source": [
    "### Consulta 1: Buscar por el texto \"Av. Parque Isidora\" en el campo 'content'\n"
   ]
  },
  {
   "cell_type": "code",
   "execution_count": null,
   "metadata": {},
   "outputs": [],
   "source": [
    "results = search_client.search(search_text=\"Av. Parque Isidora\", search_fields=[\"content\"], include_total_count=True)\n",
    "print('Total de documentos que coinciden con la consulta:', results.get_count())"
   ]
  },
  {
   "cell_type": "markdown",
   "metadata": {},
   "source": [
    "### Consulta 2: Buscar documentos creados después del 01 de julio de 2023\n"
   ]
  },
  {
   "cell_type": "code",
   "execution_count": null,
   "metadata": {},
   "outputs": [],
   "source": [
    "results = search_client.search(search_text=\"*\", filter=\"created_date gt 2023-07-01T00:00:00Z\", include_total_count=True)\n",
    "print('Total de documentos que coinciden con la consulta:', results.get_count())"
   ]
  },
  {
   "cell_type": "markdown",
   "metadata": {},
   "source": [
    "### Consulta 3: Buscar por el autor \"David Rivas\"\n"
   ]
  },
  {
   "cell_type": "code",
   "execution_count": null,
   "metadata": {},
   "outputs": [],
   "source": [
    "results = search_client.search(search_text=\"David Rivas\", search_fields=[\"author\"], include_total_count=True)\n",
    "print('Total de documentos que coinciden con la consulta:', results.get_count())"
   ]
  },
  {
   "cell_type": "markdown",
   "metadata": {},
   "source": [
    "### Consulta 4: Buscar por documentos con el texto \"DE03234\" en el nombre del archivo\n"
   ]
  },
  {
   "cell_type": "code",
   "execution_count": null,
   "metadata": {},
   "outputs": [],
   "source": [
    "results = search_client.search(search_text=\"DE03234\", search_fields=[\"filename\"], include_total_count=True)\n",
    "print('Total de documentos que coinciden con la consulta:', results.get_count())"
   ]
  },
  {
   "cell_type": "markdown",
   "metadata": {},
   "source": [
    "### Consulta 5: Buscar por documentos modificados antes del 28 de julio de 2023\n"
   ]
  },
  {
   "cell_type": "code",
   "execution_count": null,
   "metadata": {},
   "outputs": [],
   "source": [
    "results = search_client.search(search_text=\"*\", filter=\"last_modified_date lt 2023-07-28T00:00:00Z\", include_total_count=True)\n",
    "print('Total de documentos que coinciden con la consulta:', results.get_count())"
   ]
  },
  {
   "cell_type": "markdown",
   "metadata": {},
   "source": [
    "### Consulta 6: Buscar por documentos con más de 2 páginas\n"
   ]
  },
  {
   "cell_type": "code",
   "execution_count": null,
   "metadata": {},
   "outputs": [],
   "source": [
    "results = search_client.search(search_text=\"*\", filter=\"total_pages gt 2\", include_total_count=True)\n",
    "print('Total de documentos que coinciden con la consulta:', results.get_count())"
   ]
  },
  {
   "cell_type": "markdown",
   "metadata": {},
   "source": [
    "### Consulta 7: Buscar por el texto \"Ernesto Huber J .\" en el campo 'content'\n"
   ]
  },
  {
   "cell_type": "code",
   "execution_count": null,
   "metadata": {},
   "outputs": [],
   "source": [
    "results = search_client.search(search_text=\"Ernesto Huber J .\", search_fields=[\"content\"], include_total_count=True)\n",
    "print('Total de documentos que coinciden con la consulta:', results.get_count())"
   ]
  },
  {
   "cell_type": "markdown",
   "metadata": {},
   "source": [
    "### Consulta 8: Buscar todos los documentos e imprimir su fecha de creación\n"
   ]
  },
  {
   "cell_type": "code",
   "execution_count": null,
   "metadata": {},
   "outputs": [],
   "source": [
    "results = search_client.search(search_text=\"*\", include_total_count=True)\n",
    "print('Total de documentos:', results.get_count())\n",
    "for result in results:\n",
    "    print(\"Id del documento: {}, Fecha de creación: {}\".format(result[\"id\"], result[\"created_date\"]))"
   ]
  },
  {
   "cell_type": "markdown",
   "metadata": {},
   "source": [
    "### Consulta 9: Buscar todos los documentos y mostrar su autor\n",
    "\n"
   ]
  },
  {
   "cell_type": "code",
   "execution_count": null,
   "metadata": {},
   "outputs": [],
   "source": [
    "results = search_client.search(search_text=\"*\", include_total_count=True)\n",
    "print('Total de documentos:', results.get_count())\n",
    "for result in results:\n",
    "    print(\"Id del documento: {}, Autor: {}\".format(result[\"id\"], result[\"author\"]))"
   ]
  },
  {
   "cell_type": "markdown",
   "metadata": {},
   "source": [
    "### Consulta 10: Buscar por el texto \"Norma Técnica de Coordinación\" en el campo 'content'\n"
   ]
  },
  {
   "cell_type": "code",
   "execution_count": null,
   "metadata": {},
   "outputs": [],
   "source": [
    "results = search_client.search(search_text=\"Norma Técnica de Coordinación\", search_fields=[\"content\"], include_total_count=True)\n",
    "print('Total de documentos que coinciden con la consulta:', results.get_count())"
   ]
  },
  {
   "cell_type": "markdown",
   "metadata": {},
   "source": [
    "### Consulta 11: Buscar documentos que contengan un texto especifico y que sean de un autor en particular"
   ]
  },
  {
   "cell_type": "code",
   "execution_count": null,
   "metadata": {},
   "outputs": [],
   "source": [
    "    results = search_client.search(search_text=\"Norma Técnica de Coordinación\", filter=\"author eq 'David Rivas'\", include_total_count=True)\n",
    "    print('Total de documentos que coinciden con la consulta:', results.get_count())\n",
    "    for result in results:\n",
    "        print(\"Id del documento: {}, Autor: {}\".format(result[\"id\"], result[\"author\"]))"
   ]
  },
  {
   "cell_type": "markdown",
   "metadata": {},
   "source": [
    "### Consulta 12: Buscar documentos creados después de cierta fecha y que contengan un texto en específico\n"
   ]
  },
  {
   "cell_type": "code",
   "execution_count": null,
   "metadata": {},
   "outputs": [],
   "source": [
    "    results = search_client.search(search_text=\"Av. Parque Isidora\", filter=\"created_date gt 2023-07-01T00:00:00Z\", include_total_count=True)\n",
    "    print('Total de documentos que coinciden con la consulta:', results.get_count())\n",
    "    for result in results:\n",
    "        print(\"Id del documento: {}, Fecha de creación: {}\".format(result[\"id\"], result[\"created_date\"]))"
   ]
  },
  {
   "cell_type": "markdown",
   "metadata": {},
   "source": [
    "### Consulta 13: Buscar documentos que contengan un texto específico en su contenido y que tengan más de 2 páginas:"
   ]
  },
  {
   "cell_type": "code",
   "execution_count": null,
   "metadata": {},
   "outputs": [],
   "source": [
    "    results = search_client.search(search_text=\"Artículo 3\", filter=\"total_pages gt 2\", include_total_count=True)\n",
    "    print('Total de documentos que coinciden con la consulta:', results.get_count())\n",
    "    for result in results:\n",
    "        print(\"Id del documento: {}, Número total de páginas: {}\".format(result[\"id\"], result[\"total_pages\"]))"
   ]
  },
  {
   "cell_type": "markdown",
   "metadata": {},
   "source": [
    "### Consulta 14: Buscar la palabra \"coordinador\" en todo el índice\n"
   ]
  },
  {
   "cell_type": "code",
   "execution_count": null,
   "metadata": {},
   "outputs": [],
   "source": [
    "search_text = \"coordinador\"\n",
    "results = search_client.search(search_text)\n",
    "\n",
    "print('Total de documentos que coinciden con la consulta:', results.get_count())\n",
    "\n",
    "\n",
    "for result in results:\n",
    "    print(\"Document ID: {}\".format(result[\"id\"])) \n",
    "    print(\"Filename: {}\".format(result[\"filename\"])) \n",
    "    print(\"Content: {}\".format(result[\"content\"])) \n",
    "    print(\"-\"*30) "
   ]
  }
 ],
 "metadata": {
  "kernelspec": {
   "display_name": "Python 3 (ipykernel)",
   "language": "python",
   "name": "python3"
  },
  "language_info": {
   "codemirror_mode": {
    "name": "ipython",
    "version": 3
   },
   "file_extension": ".py",
   "mimetype": "text/x-python",
   "name": "python",
   "nbconvert_exporter": "python",
   "pygments_lexer": "ipython3",
   "version": "3.11.4"
  }
 },
 "nbformat": 4,
 "nbformat_minor": 2
}
