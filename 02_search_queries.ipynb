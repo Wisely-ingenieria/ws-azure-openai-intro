{
 "cells": [
  {
   "cell_type": "markdown",
   "metadata": {},
   "source": [
    "# Ejemplo de código de búsqueda con Azure Cognitive Search\n",
    "Este código muestra cómo usar Azure Cognitive Search con OpenAI y el SDK de Azure Python."
   ]
  },
  {
   "cell_type": "markdown",
   "metadata": {},
   "source": [
    "## 1.- Setup inicial"
   ]
  },
  {
   "cell_type": "markdown",
   "metadata": {},
   "source": [
    "### 1.1- Importacion de librerias"
   ]
  },
  {
   "cell_type": "code",
   "execution_count": null,
   "metadata": {},
   "outputs": [],
   "source": [
    "import openai\n",
    "import os\n",
    "from tabulate import tabulate\n",
    "from dotenv import load_dotenv\n",
    "from tenacity import retry, wait_random_exponential, stop_after_attempt\n",
    "\n",
    "from azure.core.credentials import AzureKeyCredential\n",
    "from azure.search.documents import SearchClient\n",
    "from azure.search.documents.indexes import SearchIndexClient\n",
    "from azure.search.documents.models import Vector"
   ]
  },
  {
   "cell_type": "markdown",
   "metadata": {},
   "source": [
    "### 1.2.- Cargar variables de entorno"
   ]
  },
  {
   "cell_type": "code",
   "execution_count": null,
   "metadata": {},
   "outputs": [],
   "source": [
    "# Cargar secretos y configuración desde el archivo .env\n",
    "load_dotenv()\n",
    "\n",
    "# OpenAI API\n",
    "openai.api_type = os.getenv(\"OPENAI_API_TYPE\")\n",
    "openai.api_base = os.getenv(\"OPENAI_API_BASE\")\n",
    "openai.api_version = os.getenv(\"OPENAI_API_VERSION\")\n",
    "openai.api_key = os.getenv(\"OPENAI_API_KEY\")\n",
    "embedding_model = os.getenv(\"OPENAI_EMBEDDING_MODEL\")\n",
    "print(\"OpenAI API key: {}\".format(openai.api_key[:5] + '...' + openai.api_key[-5:]))\n",
    "print(\"OpenAI API base: {}\".format(openai.api_base))\n",
    "print(\"OpenAI API version: {}\".format(openai.api_version))\n",
    "print(\"OpenAI API type: {}\".format(openai.api_type))\n",
    "\n",
    "# Azure Search API\n",
    "search_service_name = os.getenv(\"SEARCH_SERVICE_NAME\")\n",
    "search_service_key = os.getenv(\"SEARCH_SERVICE_KEY\")\n",
    "search_index_name = os.getenv(\"SEARCH_INDEX_NAME\")\n",
    "search_endpoint = \"https://{}.search.windows.net/\".format(search_service_name)\n",
    "search_vector_config_name = os.getenv(\"SEARCH_VECTOR_CONFIG_NAME\")\n",
    "search_semantic_config_name = os.getenv(\"SEARCH_SEMANTIC_CONFIG_NAME\")\n",
    "print(\"Azure Search service name: {}\".format(search_service_name))\n",
    "print(\"Azure Search service key: {}\".format(search_service_key[:5] + '...' + search_service_key[-5:]))\n",
    "print(\"Azure Search index name: {}\".format(search_index_name))\n",
    "print(\"Azure Search endpoint: {}\".format(search_endpoint))\n",
    "print(\"Azure Search vector config name: {}\".format(search_vector_config_name))\n",
    "print(\"Azure Search semantic config name: {}\".format(search_semantic_config_name))\n",
    "\n",
    "result_querys = {}\n"
   ]
  },
  {
   "cell_type": "markdown",
   "metadata": {},
   "source": [
    "### 1.3.- Clase para creación de Clientes para Azure Search"
   ]
  },
  {
   "cell_type": "code",
   "execution_count": null,
   "metadata": {},
   "outputs": [],
   "source": [
    "class CreateClient(object):\n",
    "    def __init__(self, endpoint, key, index_name):\n",
    "        self.endpoint = endpoint\n",
    "        self.index_name = index_name\n",
    "        self.key = key\n",
    "        self.credentials = AzureKeyCredential(key)\n",
    "\n",
    "    # Crear un cliente de búsqueda\n",
    "    # Use esto para cargar documentos al índice\n",
    "    def create_search_client(self):\n",
    "        return SearchClient(\n",
    "            endpoint=self.endpoint,\n",
    "            index_name=self.index_name,\n",
    "            credential=self.credentials,\n",
    "        )\n",
    "\n",
    "    # Crear un cliente SearchIndex\n",
    "    # Esto se utiliza para crear, administrar y eliminar un índice.\n",
    "    def create_admin_client(self):\n",
    "        return SearchIndexClient(endpoint=self.endpoint, credential=self.credentials)"
   ]
  },
  {
   "cell_type": "markdown",
   "metadata": {},
   "source": [
    "### Creación de Clientes de Búsqueda de Cognitive Search"
   ]
  },
  {
   "cell_type": "code",
   "execution_count": null,
   "metadata": {},
   "outputs": [],
   "source": [
    "base_client = CreateClient(search_endpoint, search_service_key, search_index_name)\n",
    "search_client = base_client.create_search_client()\n",
    "admin_client = base_client.create_admin_client()"
   ]
  },
  {
   "cell_type": "markdown",
   "metadata": {},
   "source": [
    "### Metodo para generación de embeddings"
   ]
  },
  {
   "cell_type": "code",
   "execution_count": null,
   "metadata": {},
   "outputs": [],
   "source": [
    "@retry(wait=wait_random_exponential(min=1, max=20), stop=stop_after_attempt(5))\n",
    "def generate_embeddings(text):\n",
    "    response = openai.Embedding.create(input=text, engine=embedding_model)\n",
    "    embeddings = response[\"data\"][0]['embedding']\n",
    "    return embeddings"
   ]
  },
  {
   "cell_type": "markdown",
   "metadata": {},
   "source": [
    "## 2.- Busqueda simple"
   ]
  },
  {
   "cell_type": "code",
   "execution_count": null,
   "metadata": {},
   "outputs": [],
   "source": [
    "\n",
    "results =  search_client.search(\n",
    "    query_type='simple',\n",
    "    query_language='es-es',\n",
    "    search_text=\"Donde estan los indicadores de rendimiento SSCC de mayo 2020?\" ,\n",
    "    select=[],\n",
    "    include_total_count=True\n",
    "    )\n",
    "\n",
    "result_querys[\"simple_query\"] = {}\n",
    "for i, result in enumerate(results):\n",
    "    print(f\"Page {result['page_number']} of {result['filename']} -> {result['@search.score']}\")\n",
    "\n",
    "    score = result['@search.score']\n",
    "    filename_and_page = f\"{result['filename']} - {result['page_number']}\"\n",
    "    result_querys[\"simple_query\"][i] = {\"score\": score, \"name\": filename_and_page}\n",
    "    if i+1 >= 5:\n",
    "        break"
   ]
  },
  {
   "cell_type": "markdown",
   "metadata": {},
   "source": [
    "## 3.- Busqueda semantica"
   ]
  },
  {
   "cell_type": "code",
   "execution_count": null,
   "metadata": {},
   "outputs": [],
   "source": [
    "results =  search_client.search(\n",
    "    query_type='semantic', \n",
    "    query_language='es-es', \n",
    "    semantic_configuration_name=search_semantic_config_name,\n",
    "    search_text=\"Donde estan los indicadores de rendimiento SSCC de mayo 2020?\" ,\n",
    "    select=[], \n",
    "    query_caption='extractive'\n",
    "    )\n",
    "\n",
    "result_querys[\"semantic_query\"] = {}\n",
    "for i, result in enumerate(results):\n",
    "    print(f\"Page {result['page_number']} of {result['filename']} -> {result['@search.score']} - {result['@search.reranker_score']}\")\n",
    "    captions = result[\"@search.captions\"]\n",
    "    if captions:\n",
    "        caption = captions[0]\n",
    "        if caption.highlights:\n",
    "            print(f\"Caption: {caption.highlights}\\n\")\n",
    "        else:\n",
    "            print(f\"Caption: {caption.text}\\n\")\n",
    "\n",
    "        score = result['@search.score']\n",
    "        filename_and_page = f\"{result['filename']} - {result['page_number']}\"\n",
    "        result_querys[\"semantic_query\"][i] = {\"score\": score, \"name\": filename_and_page}\n",
    "        if i+1 >= 5:\n",
    "            break"
   ]
  },
  {
   "cell_type": "markdown",
   "metadata": {},
   "source": [
    "## 4.- Busqueda vectorial"
   ]
  },
  {
   "cell_type": "code",
   "execution_count": null,
   "metadata": {},
   "outputs": [],
   "source": [
    "user_query = \"Donde estan los indicadores de rendimiento SSCC de mayo 2020?\"\n",
    "# Se genera el objeto vectorial de la consulta del usuario con el campo embeddings\n",
    "vector = Vector(value=generate_embeddings(user_query), k=5, fields=\"embeddings\")\n",
    "\n",
    "results = search_client.search(  \n",
    "    search_text=None,  \n",
    "    vectors=[vector],\n",
    "    select=[]\n",
    "    )  \n",
    "    \n",
    "# Muestra los resultados de la búsqueda\n",
    "result_querys[\"vectorial_query\"] = {}\n",
    "for i, result in enumerate(results):\n",
    "    print(f\"Page {result['page_number']} of {result['filename']} -> {result['@search.score']}\")\n",
    "\n",
    "    score = result['@search.score']\n",
    "    filename_and_page = f\"{result['filename']} - {result['page_number']}\"\n",
    "    result_querys[\"vectorial_query\"][i] = {\"score\": score, \"name\": filename_and_page}\n",
    "    if i+1 >= 5:\n",
    "        break"
   ]
  },
  {
   "cell_type": "markdown",
   "metadata": {},
   "source": [
    "## 5.- Busqueda hibrida"
   ]
  },
  {
   "cell_type": "markdown",
   "metadata": {},
   "source": [
    "### 5.1.- Simple + Vector"
   ]
  },
  {
   "cell_type": "code",
   "execution_count": null,
   "metadata": {},
   "outputs": [],
   "source": [
    "results = search_client.search(\n",
    "    query_type='simple',  \n",
    "    search_text=user_query,  \n",
    "    vectors=[vector],\n",
    "    select=[]\n",
    ")  \n",
    "\n",
    "# Muestra los resultados de la búsqueda\n",
    "result_querys[\"hybrid_query\"] = {}\n",
    "for i, result in enumerate(results): \n",
    "    print(f\"Page {result['page_number']} of {result['filename']} -> {result['@search.score']}\")\n",
    "    \n",
    "    score = result['@search.score']\n",
    "    filename_and_page = f\"{result['filename']} - {result['page_number']}\"\n",
    "    result_querys[\"hybrid_query\"][i] = {\"score\": score, \"name\": filename_and_page}\n",
    "    if i+1 >= 5:\n",
    "        break"
   ]
  },
  {
   "cell_type": "markdown",
   "metadata": {},
   "source": [
    "### 5.2.- Semantic + Vector"
   ]
  },
  {
   "cell_type": "code",
   "execution_count": null,
   "metadata": {},
   "outputs": [],
   "source": [
    "results = search_client.search(  \n",
    "    query_type='semantic',\n",
    "    query_language='es-es', \n",
    "    semantic_configuration_name=search_semantic_config_name,\n",
    "    query_caption='extractive',            \n",
    "    search_text=user_query,  \n",
    "    vectors=[vector],\n",
    "    select=[]\n",
    ")  \n",
    "\n",
    "# Muestra los resultados de la búsqueda\n",
    "result_querys[\"seman_vector_query\"] = {}\n",
    "for i, result in enumerate(results):\n",
    "    print(f\"Page {result['page_number']} of {result['filename']} -> {result['@search.score']} - {result['@search.reranker_score']}\")\n",
    "    captions = result[\"@search.captions\"]\n",
    "    if captions:\n",
    "        caption = captions[0]\n",
    "        if caption.highlights:\n",
    "            print(f\"Caption: {caption.highlights}\\n\")\n",
    "        else:\n",
    "            print(f\"Caption: {caption.text}\\n\")\n",
    "\n",
    "        score = result['@search.score']\n",
    "        filename_and_page = f\"{result['filename']} - {result['page_number']}\"\n",
    "        result_querys[\"seman_vector_query\"][i] = {\"score\": score, \"name\": filename_and_page}\n",
    "        if i+1 >= 5:\n",
    "            break"
   ]
  },
  {
   "cell_type": "markdown",
   "metadata": {},
   "source": [
    "### 6.- Resultados"
   ]
  },
  {
   "cell_type": "code",
   "execution_count": null,
   "metadata": {},
   "outputs": [],
   "source": [
    "header=['Document', 'Simple Query', 'Semantic Search', 'Vectorial Search', 'Hybrid Search', 'Semantic Vector Search']\n",
    "table = []\n",
    "length = len(next(iter(result_querys.values())))\n",
    "\n",
    "for i in range(length):\n",
    "    row = []\n",
    "    for query_type in result_querys.keys():\n",
    "        if not row:\n",
    "            row.append(result_querys[query_type][i][\"name\"])  # Append document name only for the first iteration\n",
    "        row.append(result_querys[query_type][i][\"score\"])\n",
    "    table.append(row)\n",
    "\n",
    "print(tabulate(table, headers=header, tablefmt='grid'))"
   ]
  }
 ],
 "metadata": {
  "kernelspec": {
   "display_name": ".venv",
   "language": "python",
   "name": "python3"
  },
  "language_info": {
   "codemirror_mode": {
    "name": "ipython",
    "version": 3
   },
   "file_extension": ".py",
   "mimetype": "text/x-python",
   "name": "python",
   "nbconvert_exporter": "python",
   "pygments_lexer": "ipython3",
   "version": "3.11.4"
  },
  "orig_nbformat": 4
 },
 "nbformat": 4,
 "nbformat_minor": 2
}
