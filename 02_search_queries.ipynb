{
 "cells": [
  {
   "cell_type": "markdown",
   "metadata": {},
   "source": [
    "# Ejemplo de código de búsqueda con Azure Cognitive Search\n",
    "Este código muestra cómo usar Azure Cognitive Search con OpenAI y el SDK de Azure Python."
   ]
  },
  {
   "cell_type": "markdown",
   "metadata": {},
   "source": [
    "## 1.- Setup inicial"
   ]
  },
  {
   "cell_type": "markdown",
   "metadata": {},
   "source": [
    "### 1.1- Importacion de librerias"
   ]
  },
  {
   "cell_type": "code",
   "execution_count": 33,
   "metadata": {},
   "outputs": [],
   "source": [
    "import openai\n",
    "import os\n",
    "from dotenv import load_dotenv\n",
    "from tenacity import retry, wait_random_exponential, stop_after_attempt\n",
    "\n",
    "from azure.core.credentials import AzureKeyCredential\n",
    "from azure.search.documents import SearchClient\n",
    "from azure.search.documents.indexes import SearchIndexClient\n",
    "from azure.search.documents.models import Vector"
   ]
  },
  {
   "cell_type": "markdown",
   "metadata": {},
   "source": [
    "### 1.2.- Cargar variables de entorno"
   ]
  },
  {
   "cell_type": "code",
   "execution_count": 34,
   "metadata": {},
   "outputs": [
    {
     "name": "stdout",
     "output_type": "stream",
     "text": [
      "OpenAI API key: 1c7f2...3613f\n",
      "OpenAI API base: https://wsl-openai-canada.openai.azure.com/\n",
      "OpenAI API version: 2023-03-15-preview\n",
      "OpenAI API type: azure\n",
      "Azure Search service name: wsl-cog-search-test-2\n",
      "Azure Search service key: 9GUM9...z1hrb\n",
      "Azure Search index name: cogsrch-index\n",
      "Azure Search endpoint: https://wsl-cog-search-test-2.search.windows.net/\n",
      "Azure Search vector config name: cogsrch-vector-config\n",
      "Azure Search semantic config name: cogsrch-semantic-config\n"
     ]
    }
   ],
   "source": [
    "# Cargar secretos y configuración desde el archivo .env\n",
    "load_dotenv()\n",
    "\n",
    "# OpenAI API\n",
    "openai.api_type = os.getenv(\"OPENAI_API_TYPE\")\n",
    "openai.api_base = os.getenv(\"OPENAI_API_BASE\")\n",
    "openai.api_version = os.getenv(\"OPENAI_API_VERSION\")\n",
    "openai.api_key = os.getenv(\"OPENAI_API_KEY\")\n",
    "embedding_model = os.getenv(\"OPENAI_EMBEDDING_MODEL\")\n",
    "print(\"OpenAI API key: {}\".format(openai.api_key[:5] + '...' + openai.api_key[-5:]))\n",
    "print(\"OpenAI API base: {}\".format(openai.api_base))\n",
    "print(\"OpenAI API version: {}\".format(openai.api_version))\n",
    "print(\"OpenAI API type: {}\".format(openai.api_type))\n",
    "\n",
    "# Azure Search API\n",
    "search_service_name = os.getenv(\"SEARCH_SERVICE_NAME\")\n",
    "search_service_key = os.getenv(\"SEARCH_SERVICE_KEY\")\n",
    "search_index_name = os.getenv(\"SEARCH_INDEX_NAME\")\n",
    "search_endpoint = \"https://{}.search.windows.net/\".format(search_service_name)\n",
    "search_vector_config_name = os.getenv(\"SEARCH_VECTOR_CONFIG_NAME\")\n",
    "search_semantic_config_name = os.getenv(\"SEARCH_SEMANTIC_CONFIG_NAME\")\n",
    "print(\"Azure Search service name: {}\".format(search_service_name))\n",
    "print(\"Azure Search service key: {}\".format(search_service_key[:5] + '...' + search_service_key[-5:]))\n",
    "print(\"Azure Search index name: {}\".format(search_index_name))\n",
    "print(\"Azure Search endpoint: {}\".format(search_endpoint))\n",
    "print(\"Azure Search vector config name: {}\".format(search_vector_config_name))\n",
    "print(\"Azure Search semantic config name: {}\".format(search_semantic_config_name))"
   ]
  },
  {
   "cell_type": "markdown",
   "metadata": {},
   "source": [
    "### 1.3.- Clase para creación de Clientes para Azure Search"
   ]
  },
  {
   "cell_type": "code",
   "execution_count": 20,
   "metadata": {},
   "outputs": [],
   "source": [
    "class CreateClient(object):\n",
    "    def __init__(self, endpoint, key, index_name):\n",
    "        self.endpoint = endpoint\n",
    "        self.index_name = index_name\n",
    "        self.key = key\n",
    "        self.credentials = AzureKeyCredential(key)\n",
    "\n",
    "    # Crear un cliente de búsqueda\n",
    "    # Use esto para cargar documentos al índice\n",
    "    def create_search_client(self):\n",
    "        return SearchClient(\n",
    "            endpoint=self.endpoint,\n",
    "            index_name=self.index_name,\n",
    "            credential=self.credentials,\n",
    "        )\n",
    "\n",
    "    # Crear un cliente SearchIndex\n",
    "    # Esto se utiliza para crear, administrar y eliminar un índice.\n",
    "    def create_admin_client(self):\n",
    "        return SearchIndexClient(endpoint=self.endpoint, credential=self.credentials)"
   ]
  },
  {
   "cell_type": "markdown",
   "metadata": {},
   "source": [
    "### Creación de Clientes de Búsqueda de Cognitive Search"
   ]
  },
  {
   "cell_type": "code",
   "execution_count": 21,
   "metadata": {},
   "outputs": [],
   "source": [
    "base_client = CreateClient(search_endpoint, search_service_key, search_index_name)\n",
    "search_client = base_client.create_search_client()\n",
    "admin_client = base_client.create_admin_client()"
   ]
  },
  {
   "cell_type": "markdown",
   "metadata": {},
   "source": [
    "### Metodo para generación de embeddings"
   ]
  },
  {
   "cell_type": "code",
   "execution_count": 22,
   "metadata": {},
   "outputs": [],
   "source": [
    "@retry(wait=wait_random_exponential(min=1, max=20), stop=stop_after_attempt(5))\n",
    "def generate_embeddings(text):\n",
    "    response = openai.Embedding.create(input=text, engine=embedding_model)\n",
    "    embeddings = response[\"data\"][0]['embedding']\n",
    "    return embeddings"
   ]
  },
  {
   "cell_type": "markdown",
   "metadata": {},
   "source": [
    "## 2.- Busqueda simple"
   ]
  },
  {
   "cell_type": "code",
   "execution_count": 23,
   "metadata": {},
   "outputs": [
    {
     "name": "stdout",
     "output_type": "stream",
     "text": [
      "Page 3 of DE03599-23.pdf -> 5.3951507\n",
      "Page 2 of DE03599-23.pdf -> 4.3716464\n",
      "Page 1 of DE03612-23.pdf -> 3.9833078\n",
      "Page 1 of DE03599-23.pdf -> 3.9242792\n",
      "Page 1 of DE03596-23.pdf -> 3.3593283\n",
      "Page 2 of DE03596-23.pdf -> 3.071132\n",
      "Page 4 of DE03599-23.pdf -> 2.7912374\n",
      "Page 2 of DE03598-23.pdf -> 1.678012\n",
      "Page 1 of DE03591-23.pdf -> 1.604201\n",
      "Page 3 of DE03596-23.pdf -> 1.4852228\n",
      "Page 1 of DE03592-23.pdf -> 1.2158293\n",
      "Page 2 of DE03612-23.pdf -> 1.078795\n",
      "Page 1 of DE03610-23.pdf -> 1.048455\n",
      "Page 1 of DE03597-23.pdf -> 1.0325106\n",
      "Page 1 of DE03590-23.pdf -> 1.0295905\n",
      "Page 1 of DE03587-23.pdf -> 1.0201067\n",
      "Page 2 of DE03597-23.pdf -> 0.9028444\n",
      "Page 1 of DE03598-23.pdf -> 0.57918334\n"
     ]
    }
   ],
   "source": [
    "results =  search_client.search(\n",
    "    query_type='simple',\n",
    "    query_language='es-es',\n",
    "    search_text=\"Donde estan los indicadores de rendimiento SSCC de mayo 2020?\" ,\n",
    "    select=[],\n",
    "    include_total_count=True\n",
    "    )\n",
    "\n",
    "for result in results:\n",
    "    print(f\"Page {result['page_number']} of {result['filename']} -> {result['@search.score']}\")"
   ]
  },
  {
   "cell_type": "markdown",
   "metadata": {},
   "source": [
    "## 3.- Busqueda semantica"
   ]
  },
  {
   "cell_type": "code",
   "execution_count": 37,
   "metadata": {},
   "outputs": [
    {
     "name": "stdout",
     "output_type": "stream",
     "text": [
      "Page 1 of DE03599-23.pdf -> 3.9242792 - 2.8970587253570557\n",
      "Caption: los indicadores mencionados pueden ser descargados desde la siguiente ruta:    > inicio > operación > servicios complementarios > índices de desempeño y  disponibilidad de servicios complementarios > 2020 ><em> mayo 2020</em> > versión 4     cabe destacar que los indicadores de  los meses de enero  a abril y junio del año 2020, no  sufren modificaciones, …\n",
      "\n",
      "Page 3 of DE03599-23.pdf -> 5.3951507 - 2.6875765323638916\n",
      "Caption: Se acoge observación   Esta observación fue recibida en el proceso de  observaciones a los Indicadores de  Desempeño de SSCC de mayo 2020, siendo  incorporada en el cálculo de los indicadores de  mayo 2020 en su versión 3 y contestada en la  carta DE05541- 22 del 5 de diciembre de 2022.\n",
      "\n",
      "Page 1 of DE03596-23.pdf -> 3.3593283 - 1.592294692993164\n",
      "Caption: los indicadores  mencionados pueden ser descargados desde la siguiente ruta:    > inicio > operación > servicios complementarios > índices de desempeño y  disponibilidad de servicios complementarios > 2021 > febrero<em> 2021</em> > versión 3     cabe destacar que los indicadores del mes de enero 2021 no sufren modificaciones, y  siguen siendo válidos los …\n",
      "\n",
      "Page 4 of DE03599-23.pdf -> 2.7912374 - 1.4011948108673096\n",
      "Caption: Por ejemplo, para el mes de abril en la central  San Isidro1, en el día 01- 04-2022 notamos que  en el “Reporte AGC ABB mayo.xlsx” cuando la  unidad mencionada presenta horas como “Non  Tracking” y/o “Time AGC Control Mode” pero en  segmentos menores a una hora, el factor de  desempeño se calcula correctamente.\n",
      "\n",
      "Page 2 of DE03596-23.pdf -> 3.071132 - 1.388556957244873\n",
      "Caption: parque isidora 1061, pudahuel,<em> santiago de chile</em> teléfono (562) 2424 6300  www.coordinador.cl     anexo 1: respuestas a observaciones de indicadores de desempeño de servicios complementarios prestados durante el  mes febrero  2021 versión 2    nº mes coordinado<em>  sscc</em>  unidad observaciones y/o comentarios  respuesta   1 febrero  enel generación …\n",
      "\n",
      "Page 3 of DE03596-23.pdf -> 1.4852228 - 1.3877910375595093\n",
      "Caption: Parque Isidora 1061, Pudahuel,<em> Santiago de Chile</em> Teléfono (562) 2424 6300  www.coordinador.cl     Nº Mes Coordinado  SSCC  Unidad Observaciones y/o Comentarios  Respuesta   preliminar y no son consistentes con los  actualizados en el informe de desempeños versión  2.\n",
      "\n",
      "Page 1 of DE03612-23.pdf -> 3.9833078 - 1.1698834896087646\n",
      "Caption: los indicadores mencionados pueden  ser descargados  desde el siti o w eb del  coordinador eléctrico nacional en la siguiente ruta:     inicio >  informes y estudios > operación > servicios complementarios > índices de  desempeño y disponibilidad de se rvicios  complementarios >  2023 > julio 2023  >  versión 1    por ot ro lado, los indicadores …\n",
      "\n",
      "Page 1 of DE03591-23.pdf -> 1.604201 - 0.9975489377975464\n",
      "Caption: <em>Av.</em>\n",
      "\n",
      "Page 2 of DE03599-23.pdf -> 4.3716464 - 0.9906556010246277\n",
      "Caption: Parque Isidora 1061, Pudahuel, Santiago de Chile Teléfono (562) 2424 6300  www.coordinador.cl     Referencias     [1] Carta DE05541 -22, Ref. “Publicación de Indicadores de Desempeño de Servicios  Complementarios prestados entre los meses de abril y junio de<em> 2020,</em> tercera versión.” de fecha 5 diciembre 2022.\n",
      "\n",
      "Page 1 of DE03610-23.pdf -> 1.048455 - 0.9906556010246277\n",
      "Caption: <em>Av.</em>\n",
      "\n",
      "Page 1 of DE03592-23.pdf -> 1.2158293 - 0.9768688082695007\n",
      "Caption: <em>Av.</em>\n",
      "\n",
      "Page 1 of DE03587-23.pdf -> 1.0201067 - 0.9722732305526733\n",
      "Caption: <em>Av.</em>\n",
      "\n",
      "Page 1 of DE03590-23.pdf -> 1.0295905 - 0.5104166269302368\n",
      "Caption: de mi consideración :    envío resolución de la comisión nacional de energía  (cne) , de 04 de agosto de 202 3, que  comunica nuevos valores de los precios de nudo de corto plazo en el sistema eléctrico nacional , reajustados conforme a sus respectivas fórmulas de<em> indexación,</em> según lo señalado  en el decreto supremo n°1t del ministerio de …\n",
      "\n",
      "Page 1 of DE03598-23.pdf -> 0.57918334 - 0.34957101941108704\n",
      "Caption: de03598-23.pdf. 1yesenia canales lopez asunto: rv: estudio para análisis de falla (eaf) n° 301/2023 de evento ocurrido en el sen,  según lo establece la ntisc correlativo de03598-23     de: luis calabrán guerrero    enviado el:  viernes, 4 de agosto de 2023 18:30  para: jaime.veas@mineratresvalles.cl; jaime@interenergy.com; jalemany@fyrmob.cl; …\n",
      "\n",
      "Page 1 of DE03597-23.pdf -> 1.0325106 - 0.3419117033481598\n",
      "Caption: de03597-23.pdf. 1yesenia canales lopez asunto:  estudio para análisis de falla (eaf) n° 301/2023 de evento ocurrido en el sen, según  lo establece la ntisc correlativo de03597-23     de: luis calabrán guerrero    enviado el:  viernes, 4 de agosto de 2023 18:29  para: 2sunwoong@gmail.com; a.astudillo@emelca.cl; a.hachun@s-energy.com; alejandro …\n",
      "\n",
      "Page 2 of DE03598-23.pdf -> 1.678012 - 0.3066788613796234\n",
      "Caption: de03598-23.pdf. 2cc: correspondencia ; daop ; yesenia canales lopez  ; claudia alejandra troncoso pinto   asunto: estudio para análisis de falla (eaf) n° 301/2023 de evento ocurrido en el sen, según lo establece la ntisc    señores  encargados titulares  empresas coordinadas  presente    de mi consideración:    el artículo 4-4 de la norma técnica …\n",
      "\n",
      "Page 2 of DE03597-23.pdf -> 0.9028444 - 0.23161756992340088\n",
      "Caption: de03597-23.pdf. 2ivan.inostroza@mantoscopper.com; ivo.colombo@sqm.com; jacevedo@chilquintatx.cl; jaime.valdes@cbb.cl  cc: correspondencia ; daop ; yesenia canales lopez  ; claudia alejandra troncoso pinto   asunto: estudio para análisis de falla (eaf) n° 301/2023 de evento ocurrido en el sen, según lo establece la ntisc    señores  encargados …\n",
      "\n",
      "Page 2 of DE03612-23.pdf -> 1.078795 - 0.1963847279548645\n",
      "Caption: DE03612-23.pdf.  \n",
      " \n",
      " \n",
      "Av. Parque I sidora 1061, Pudahuel , Santiago de  Chile. Te léfono (562) 2 424 6300 \n",
      "www.c oordinador. cl  \n",
      " \n",
      "Sin otro particular, saluda atentamente a usted,  \n",
      " \n",
      "    \n",
      "Gretchen Zbinden V.  \n",
      "       Subgerent a de Análisis  y Soporte Operacional  \n",
      "Coordinador Eléctrico Nacional  \n",
      "  \n",
      "BBB/ycl \n",
      " c.c.: \n",
      "SGASO/SGT<em> M/DCO /DTE-SSCC</em>  \n",
      ".\n",
      "\n"
     ]
    }
   ],
   "source": [
    "results =  search_client.search(\n",
    "    query_type='semantic', \n",
    "    query_language='es-es', \n",
    "    semantic_configuration_name=search_semantic_config_name,\n",
    "    search_text=\"Donde estan los indicadores de rendimiento SSCC de mayo 2020?\" ,\n",
    "    select=[], \n",
    "    query_caption='extractive'\n",
    "    )\n",
    "\n",
    "for result in results:\n",
    "    print(f\"Page {result['page_number']} of {result['filename']} -> {result['@search.score']} - {result['@search.reranker_score']}\")\n",
    "    captions = result[\"@search.captions\"]\n",
    "    if captions:\n",
    "        caption = captions[0]\n",
    "        if caption.highlights:\n",
    "            print(f\"Caption: {caption.highlights}\\n\")\n",
    "        else:\n",
    "            print(f\"Caption: {caption.text}\\n\")"
   ]
  },
  {
   "cell_type": "markdown",
   "metadata": {},
   "source": [
    "## 4.- Busqueda vectorial"
   ]
  },
  {
   "cell_type": "code",
   "execution_count": 27,
   "metadata": {},
   "outputs": [
    {
     "name": "stdout",
     "output_type": "stream",
     "text": [
      "Page 1 of DE03612-23.pdf -> 0.854698\n",
      "Page 1 of DE03599-23.pdf -> 0.854264\n",
      "Page 3 of DE03599-23.pdf -> 0.85401237\n",
      "Page 1 of DE03596-23.pdf -> 0.8506246\n",
      "Page 2 of DE03596-23.pdf -> 0.8455717\n"
     ]
    }
   ],
   "source": [
    "user_query = \"Donde estan los indicadores de rendimiento SSCC de mayo 2020?\"\n",
    "# Se genera el objeto vectorial de la consulta del usuario con el campo embeddings\n",
    "vector = Vector(value=generate_embeddings(user_query), k=5, fields=\"embeddings\")\n",
    "\n",
    "results = search_client.search(  \n",
    "    search_text=None,  \n",
    "    vectors=[vector],\n",
    "    select=[]\n",
    "    )  \n",
    "    \n",
    "# Muestra los resultados de la búsqueda\n",
    "for result in results: \n",
    "    print(f\"Page {result['page_number']} of {result['filename']} -> {result['@search.score']}\")"
   ]
  },
  {
   "cell_type": "markdown",
   "metadata": {},
   "source": [
    "## 5.- Busqueda hibrida"
   ]
  },
  {
   "cell_type": "markdown",
   "metadata": {},
   "source": [
    "### 5.1.- Simple + Vector"
   ]
  },
  {
   "cell_type": "code",
   "execution_count": 32,
   "metadata": {},
   "outputs": [
    {
     "name": "stdout",
     "output_type": "stream",
     "text": [
      "Page 1 of DE03612-23.pdf -> 0.03279569745063782\n",
      "Page 3 of DE03599-23.pdf -> 0.03279569745063782\n",
      "Page 1 of DE03599-23.pdf -> 0.03226646035909653\n",
      "Page 1 of DE03596-23.pdf -> 0.0314980149269104\n",
      "Page 2 of DE03596-23.pdf -> 0.03100961446762085\n",
      "Page 2 of DE03599-23.pdf -> 0.016393441706895828\n",
      "Page 4 of DE03599-23.pdf -> 0.01515151560306549\n",
      "Page 2 of DE03598-23.pdf -> 0.014925372786819935\n",
      "Page 1 of DE03591-23.pdf -> 0.014705882407724857\n",
      "Page 3 of DE03596-23.pdf -> 0.014492753893136978\n",
      "Page 1 of DE03592-23.pdf -> 0.014285714365541935\n",
      "Page 2 of DE03612-23.pdf -> 0.014084506779909134\n",
      "Page 1 of DE03610-23.pdf -> 0.013888888992369175\n",
      "Page 1 of DE03597-23.pdf -> 0.013698630034923553\n",
      "Page 1 of DE03590-23.pdf -> 0.013513513840734959\n",
      "Page 1 of DE03587-23.pdf -> 0.013333333656191826\n",
      "Page 2 of DE03597-23.pdf -> 0.01315789483487606\n",
      "Page 1 of DE03598-23.pdf -> 0.012987012974917889\n"
     ]
    }
   ],
   "source": [
    "results = search_client.search(\n",
    "    query_type='simple',  \n",
    "    search_text=user_query,  \n",
    "    vectors=[vector],\n",
    "    select=[]\n",
    ")  \n",
    "\n",
    "# Muestra los resultados de la búsqueda\n",
    "for result in results:  \n",
    "    print(f\"Page {result['page_number']} of {result['filename']} -> {result['@search.score']}\")\n"
   ]
  },
  {
   "cell_type": "markdown",
   "metadata": {},
   "source": [
    "### 5.2.- Semantic + Vector"
   ]
  },
  {
   "cell_type": "code",
   "execution_count": 36,
   "metadata": {},
   "outputs": [
    {
     "name": "stdout",
     "output_type": "stream",
     "text": [
      "Page 1 of DE03599-23.pdf -> 0.03226646035909653 - 2.8970587253570557\n",
      "Caption: los indicadores mencionados pueden ser descargados desde la siguiente ruta:    > inicio > operación > servicios complementarios > índices de desempeño y  disponibilidad de servicios complementarios > 2020 ><em> mayo 2020</em> > versión 4     cabe destacar que los indicadores de  los meses de enero  a abril y junio del año 2020, no  sufren modificaciones, …\n",
      "\n",
      "Page 3 of DE03599-23.pdf -> 0.03279569745063782 - 2.6875765323638916\n",
      "Caption: Se acoge observación   Esta observación fue recibida en el proceso de  observaciones a los Indicadores de  Desempeño de SSCC de mayo 2020, siendo  incorporada en el cálculo de los indicadores de  mayo 2020 en su versión 3 y contestada en la  carta DE05541- 22 del 5 de diciembre de 2022.\n",
      "\n",
      "Page 1 of DE03596-23.pdf -> 0.0314980149269104 - 1.592294692993164\n",
      "Caption: los indicadores  mencionados pueden ser descargados desde la siguiente ruta:    > inicio > operación > servicios complementarios > índices de desempeño y  disponibilidad de servicios complementarios > 2021 > febrero<em> 2021</em> > versión 3     cabe destacar que los indicadores del mes de enero 2021 no sufren modificaciones, y  siguen siendo válidos los …\n",
      "\n",
      "Page 4 of DE03599-23.pdf -> 0.01515151560306549 - 1.4011948108673096\n",
      "Caption: Por ejemplo, para el mes de abril en la central  San Isidro1, en el día 01- 04-2022 notamos que  en el “Reporte AGC ABB mayo.xlsx” cuando la  unidad mencionada presenta horas como “Non  Tracking” y/o “Time AGC Control Mode” pero en  segmentos menores a una hora, el factor de  desempeño se calcula correctamente.\n",
      "\n",
      "Page 2 of DE03596-23.pdf -> 0.03100961446762085 - 1.388556957244873\n",
      "Caption: parque isidora 1061, pudahuel,<em> santiago de chile</em> teléfono (562) 2424 6300  www.coordinador.cl     anexo 1: respuestas a observaciones de indicadores de desempeño de servicios complementarios prestados durante el  mes febrero  2021 versión 2    nº mes coordinado<em>  sscc</em>  unidad observaciones y/o comentarios  respuesta   1 febrero  enel generación …\n",
      "\n",
      "Page 3 of DE03596-23.pdf -> 0.014492753893136978 - 1.3877910375595093\n",
      "Caption: Parque Isidora 1061, Pudahuel,<em> Santiago de Chile</em> Teléfono (562) 2424 6300  www.coordinador.cl     Nº Mes Coordinado  SSCC  Unidad Observaciones y/o Comentarios  Respuesta   preliminar y no son consistentes con los  actualizados en el informe de desempeños versión  2.\n",
      "\n",
      "Page 1 of DE03612-23.pdf -> 0.03279569745063782 - 1.1698834896087646\n",
      "Caption: los indicadores mencionados pueden  ser descargados  desde el siti o w eb del  coordinador eléctrico nacional en la siguiente ruta:     inicio >  informes y estudios > operación > servicios complementarios > índices de  desempeño y disponibilidad de se rvicios  complementarios >  2023 > julio 2023  >  versión 1    por ot ro lado, los indicadores …\n",
      "\n",
      "Page 1 of DE03591-23.pdf -> 0.014705882407724857 - 0.9975489377975464\n",
      "Caption: <em>Av.</em>\n",
      "\n",
      "Page 2 of DE03599-23.pdf -> 0.016393441706895828 - 0.9906556010246277\n",
      "Caption: Parque Isidora 1061, Pudahuel, Santiago de Chile Teléfono (562) 2424 6300  www.coordinador.cl     Referencias     [1] Carta DE05541 -22, Ref. “Publicación de Indicadores de Desempeño de Servicios  Complementarios prestados entre los meses de abril y junio de<em> 2020,</em> tercera versión.” de fecha 5 diciembre 2022.\n",
      "\n",
      "Page 1 of DE03610-23.pdf -> 0.013888888992369175 - 0.9906556010246277\n",
      "Caption: <em>Av.</em>\n",
      "\n",
      "Page 1 of DE03592-23.pdf -> 0.014285714365541935 - 0.9768688082695007\n",
      "Caption: <em>Av.</em>\n",
      "\n",
      "Page 1 of DE03587-23.pdf -> 0.013333333656191826 - 0.9722732305526733\n",
      "Caption: <em>Av.</em>\n",
      "\n",
      "Page 1 of DE03590-23.pdf -> 0.013513513840734959 - 0.5104166269302368\n",
      "Caption: de mi consideración :    envío resolución de la comisión nacional de energía  (cne) , de 04 de agosto de 202 3, que  comunica nuevos valores de los precios de nudo de corto plazo en el sistema eléctrico nacional , reajustados conforme a sus respectivas fórmulas de<em> indexación,</em> según lo señalado  en el decreto supremo n°1t del ministerio de …\n",
      "\n",
      "Page 1 of DE03598-23.pdf -> 0.012987012974917889 - 0.34957101941108704\n",
      "Caption: de03598-23.pdf. 1yesenia canales lopez asunto: rv: estudio para análisis de falla (eaf) n° 301/2023 de evento ocurrido en el sen,  según lo establece la ntisc correlativo de03598-23     de: luis calabrán guerrero    enviado el:  viernes, 4 de agosto de 2023 18:30  para: jaime.veas@mineratresvalles.cl; jaime@interenergy.com; jalemany@fyrmob.cl; …\n",
      "\n",
      "Page 1 of DE03597-23.pdf -> 0.013698630034923553 - 0.3419117033481598\n",
      "Caption: de03597-23.pdf. 1yesenia canales lopez asunto:  estudio para análisis de falla (eaf) n° 301/2023 de evento ocurrido en el sen, según  lo establece la ntisc correlativo de03597-23     de: luis calabrán guerrero    enviado el:  viernes, 4 de agosto de 2023 18:29  para: 2sunwoong@gmail.com; a.astudillo@emelca.cl; a.hachun@s-energy.com; alejandro …\n",
      "\n",
      "Page 2 of DE03598-23.pdf -> 0.014925372786819935 - 0.3066788613796234\n",
      "Caption: de03598-23.pdf. 2cc: correspondencia ; daop ; yesenia canales lopez  ; claudia alejandra troncoso pinto   asunto: estudio para análisis de falla (eaf) n° 301/2023 de evento ocurrido en el sen, según lo establece la ntisc    señores  encargados titulares  empresas coordinadas  presente    de mi consideración:    el artículo 4-4 de la norma técnica …\n",
      "\n",
      "Page 2 of DE03597-23.pdf -> 0.01315789483487606 - 0.23161756992340088\n",
      "Caption: de03597-23.pdf. 2ivan.inostroza@mantoscopper.com; ivo.colombo@sqm.com; jacevedo@chilquintatx.cl; jaime.valdes@cbb.cl  cc: correspondencia ; daop ; yesenia canales lopez  ; claudia alejandra troncoso pinto   asunto: estudio para análisis de falla (eaf) n° 301/2023 de evento ocurrido en el sen, según lo establece la ntisc    señores  encargados …\n",
      "\n",
      "Page 2 of DE03612-23.pdf -> 0.014084506779909134 - 0.1963847279548645\n",
      "Caption: DE03612-23.pdf.  \n",
      " \n",
      " \n",
      "Av. Parque I sidora 1061, Pudahuel , Santiago de  Chile. Te léfono (562) 2 424 6300 \n",
      "www.c oordinador. cl  \n",
      " \n",
      "Sin otro particular, saluda atentamente a usted,  \n",
      " \n",
      "    \n",
      "Gretchen Zbinden V.  \n",
      "       Subgerent a de Análisis  y Soporte Operacional  \n",
      "Coordinador Eléctrico Nacional  \n",
      "  \n",
      "BBB/ycl \n",
      " c.c.: \n",
      "SGASO/SGT<em> M/DCO /DTE-SSCC</em>  \n",
      ".\n",
      "\n"
     ]
    }
   ],
   "source": [
    "results = search_client.search(  \n",
    "    query_type='semantic',\n",
    "    query_language='es-es', \n",
    "    semantic_configuration_name=search_semantic_config_name,\n",
    "    query_caption='extractive',            \n",
    "    search_text=user_query,  \n",
    "    vectors=[vector],\n",
    "    select=[]\n",
    ")  \n",
    "\n",
    "# Muestra los resultados de la búsqueda\n",
    "for result in results:\n",
    "    print(f\"Page {result['page_number']} of {result['filename']} -> {result['@search.score']} - {result['@search.reranker_score']}\")\n",
    "    captions = result[\"@search.captions\"]\n",
    "    if captions:\n",
    "        caption = captions[0]\n",
    "        if caption.highlights:\n",
    "            print(f\"Caption: {caption.highlights}\\n\")\n",
    "        else:\n",
    "            print(f\"Caption: {caption.text}\\n\")"
   ]
  }
 ],
 "metadata": {
  "kernelspec": {
   "display_name": ".venv",
   "language": "python",
   "name": "python3"
  },
  "language_info": {
   "codemirror_mode": {
    "name": "ipython",
    "version": 3
   },
   "file_extension": ".py",
   "mimetype": "text/x-python",
   "name": "python",
   "nbconvert_exporter": "python",
   "pygments_lexer": "ipython3",
   "version": "3.10.6"
  },
  "orig_nbformat": 4
 },
 "nbformat": 4,
 "nbformat_minor": 2
}
