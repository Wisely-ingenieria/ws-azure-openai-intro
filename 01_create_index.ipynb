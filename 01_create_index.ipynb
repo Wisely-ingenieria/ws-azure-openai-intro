{
 "cells": [
  {
   "cell_type": "markdown",
   "metadata": {},
   "source": [
    "# Ejemplo de código de creacion de indice con Azure Cognitive Search\n",
    "Este código muestra cómo usar Azure Cognitive Search y el SDK de Azure Python para crear un indice."
   ]
  },
  {
   "cell_type": "markdown",
   "metadata": {},
   "source": [
    "## 1.- Setup inicial"
   ]
  },
  {
   "cell_type": "markdown",
   "metadata": {},
   "source": [
    "### 1.1- Instalar librerías"
   ]
  },
  {
   "cell_type": "code",
   "execution_count": 1,
   "metadata": {},
   "outputs": [],
   "source": [
    "#! pip install azure-core\n",
    "#! pip install openai\n",
    "#! pip install azure-search-documents --pre\n",
    "#! pip install PyPDF2\n",
    "#! pip install tenacity\n",
    "#! pip install openai[datalib]\n",
    "#! pip install python-dotenv"
   ]
  },
  {
   "cell_type": "markdown",
   "metadata": {},
   "source": [
    "### 1.2.- Cargar librerías"
   ]
  },
  {
   "cell_type": "code",
   "execution_count": 2,
   "metadata": {},
   "outputs": [],
   "source": [
    "import json\n",
    "import openai\n",
    "import os\n",
    "import sys\n",
    "import time\n",
    "import PyPDF2\n",
    "import fnmatch\n",
    "from dotenv import load_dotenv\n",
    "from tenacity import retry, wait_random_exponential, stop_after_attempt\n",
    "\n",
    "from azure.core.credentials import AzureKeyCredential\n",
    "from azure.search.documents import SearchClient\n",
    "from azure.search.documents.indexes import SearchIndexClient\n",
    "from azure.search.documents.indexes.models import SearchIndex\n",
    "from azure.search.documents.models import Vector\n",
    "from azure.search.documents.indexes.models import (\n",
    "    ComplexField,\n",
    "    CorsOptions,\n",
    "    SearchIndex,\n",
    "    SemanticConfiguration,\n",
    "    PrioritizedFields,\n",
    "    SemanticField,\n",
    "    SemanticSettings,\n",
    "    VectorSearch,\n",
    "    HnswVectorSearchAlgorithmConfiguration,\n",
    "    ScoringProfile,\n",
    "    SearchField,\n",
    "    SearchFieldDataType,\n",
    "    SimpleField,\n",
    "    SearchableField,\n",
    ")"
   ]
  },
  {
   "cell_type": "markdown",
   "metadata": {},
   "source": [
    "### 1.3.- Cargar variables de entorno"
   ]
  },
  {
   "cell_type": "code",
   "execution_count": 3,
   "metadata": {},
   "outputs": [
    {
     "name": "stdout",
     "output_type": "stream",
     "text": [
      "OpenAI API key: 1c7f2...3613f\n",
      "OpenAI API base: https://wsl-openai-canada.openai.azure.com/\n",
      "OpenAI API version: 2023-03-15-preview\n",
      "OpenAI API type: azure\n",
      "Azure Search service name: wsl-cog-search-test-2\n",
      "Azure Search service key: 9GUM9...z1hrb\n",
      "Azure Search index name: cogsrch-index\n",
      "Azure Search endpoint: https://wsl-cog-search-test-2.search.windows.net/\n",
      "Azure Search vector config name: cogsrch-vector-config\n",
      "Azure Search semantic config name: cogsrch-semantic-config\n",
      "Data directory: ./data\n",
      "Index schema: None\n"
     ]
    }
   ],
   "source": [
    "# Load secrets and config from .env file\n",
    "load_dotenv()\n",
    "\n",
    "# OpenAI API\n",
    "openai.api_type = os.getenv(\"OPENAI_API_TYPE\")\n",
    "openai.api_base = os.getenv(\"OPENAI_API_BASE\")\n",
    "openai.api_version = os.getenv(\"OPENAI_API_VERSION\")\n",
    "openai.api_key = os.getenv(\"OPENAI_API_KEY\")\n",
    "embedding_model = os.getenv(\"OPENAI_EMBEDDING_MODEL\")\n",
    "print(\"OpenAI API key: {}\".format(openai.api_key[:5] + '...' + openai.api_key[-5:]))\n",
    "print(\"OpenAI API base: {}\".format(openai.api_base))\n",
    "print(\"OpenAI API version: {}\".format(openai.api_version))\n",
    "print(\"OpenAI API type: {}\".format(openai.api_type))\n",
    "\n",
    "# Azure Search API\n",
    "search_service_name = os.getenv(\"SEARCH_SERVICE_NAME\")\n",
    "search_service_key = os.getenv(\"SEARCH_SERVICE_KEY\")\n",
    "search_index_name = os.getenv(\"SEARCH_INDEX_NAME\")\n",
    "search_endpoint = \"https://{}.search.windows.net/\".format(search_service_name)\n",
    "search_vector_config_name = os.getenv(\"SEARCH_VECTOR_CONFIG_NAME\")\n",
    "search_semantic_config_name = os.getenv(\"SEARCH_SEMANTIC_CONFIG_NAME\")\n",
    "print(\"Azure Search service name: {}\".format(search_service_name))\n",
    "print(\"Azure Search service key: {}\".format(search_service_key[:5] + '...' + search_service_key[-5:]))\n",
    "print(\"Azure Search index name: {}\".format(search_index_name))\n",
    "print(\"Azure Search endpoint: {}\".format(search_endpoint))\n",
    "print(\"Azure Search vector config name: {}\".format(search_vector_config_name))\n",
    "print(\"Azure Search semantic config name: {}\".format(search_semantic_config_name))\n",
    "\n",
    "# Other variables\n",
    "data_directory = os.getenv(\"FILEPATH_TO_DATA\")\n",
    "index_schema = os.getenv(\"FILEPATH_TO_INDEX_SCHEMA\")\n",
    "print(\"Data directory: {}\".format(data_directory))\n",
    "print(\"Index schema: {}\".format(index_schema))"
   ]
  },
  {
   "cell_type": "markdown",
   "metadata": {},
   "source": [
    "### 1.4.- Clase para creación de Clientes para Azure Search"
   ]
  },
  {
   "cell_type": "code",
   "execution_count": 4,
   "metadata": {},
   "outputs": [],
   "source": [
    "# Instantiate a client\n",
    "class CreateClient(object):\n",
    "    def __init__(self, endpoint, key, index_name):\n",
    "        self.endpoint = endpoint\n",
    "        self.index_name = index_name\n",
    "        self.key = key\n",
    "        self.credentials = AzureKeyCredential(key)\n",
    "\n",
    "    # Create a SearchClient\n",
    "    # Use this to upload docs to the Index\n",
    "    def create_search_client(self):\n",
    "        return SearchClient(\n",
    "            endpoint=self.endpoint,\n",
    "            index_name=self.index_name,\n",
    "            credential=self.credentials,\n",
    "        )\n",
    "\n",
    "    # Create a SearchIndexClient\n",
    "    # This is used to create, manage, and delete an index\n",
    "    def create_admin_client(self):\n",
    "        return SearchIndexClient(endpoint=self.endpoint, credential=self.credentials)"
   ]
  },
  {
   "cell_type": "markdown",
   "metadata": {},
   "source": [
    "### 1.5.- Clase para creación de indices"
   ]
  },
  {
   "cell_type": "code",
   "execution_count": 5,
   "metadata": {},
   "outputs": [],
   "source": [
    "# Create Search Index\n",
    "def create_schema_from_json_and_upload(index_name, admin_client):\n",
    "    cors_options = CorsOptions(allowed_origins=[\"*\"], max_age_in_seconds=60)\n",
    "    scoring_profiles = []\n",
    "    \n",
    "    fields = [\n",
    "        SimpleField(name=\"id\", type=SearchFieldDataType.String, key=True, sortable=True, filterable=True, facetable=True),\n",
    "        SearchableField(name=\"filename\", type=SearchFieldDataType.String),\n",
    "        SearchableField(name=\"author\", type=SearchFieldDataType.String),\n",
    "        SearchableField(name=\"created_date\", type=SearchFieldDataType.DateTimeOffset),\n",
    "        SearchableField(name=\"last_modified_date\", type=SearchFieldDataType.DateTimeOffset),\n",
    "        SearchableField(name=\"page_number\", type=SearchFieldDataType.Int32),\n",
    "        SearchableField(name=\"total_pages\", type=SearchFieldDataType.Int32),\n",
    "        SearchableField(name=\"content\", type=SearchFieldDataType.String),\n",
    "        SearchField(name=\"embeddings\", type=SearchFieldDataType.Collection(SearchFieldDataType.Single), searchable=True, vector_search_dimensions=1536, vector_search_configuration=search_vector_config_name),\n",
    "    ]\n",
    "    \n",
    "    vector_search = VectorSearch(\n",
    "        algorithm_configurations=[\n",
    "            HnswVectorSearchAlgorithmConfiguration(\n",
    "                name=search_vector_config_name,\n",
    "                kind=\"hnsw\",\n",
    "                parameters={\n",
    "                    \"m\": 4,\n",
    "                    \"efConstruction\": 400,\n",
    "                    \"efSearch\": 500,\n",
    "                    \"metric\": \"cosine\"\n",
    "                }\n",
    "            )\n",
    "        ]\n",
    "    )\n",
    "    \n",
    "    semantic_config = SemanticConfiguration(\n",
    "        name=search_semantic_config_name,\n",
    "        prioritized_fields=PrioritizedFields(\n",
    "            title_field=SemanticField(field_name=\"filename\"),\n",
    "            prioritized_content_fields=[SemanticField(field_name=\"content\")]\n",
    "        )\n",
    "    )\n",
    "    \n",
    "    # Create the semantic settings with the configuration\n",
    "    semantic_settings = SemanticSettings(configurations=[semantic_config])\n",
    "\n",
    "    index = SearchIndex(\n",
    "        name=index_name,\n",
    "        fields=fields,\n",
    "        scoring_profiles=scoring_profiles,\n",
    "        semantic_settings=semantic_settings,\n",
    "        vector_search=vector_search,\n",
    "        cors_options=cors_options,\n",
    "    )\n",
    "\n",
    "    try:\n",
    "        upload_schema = admin_client.create_index(index)\n",
    "        if upload_schema:\n",
    "            print(\"Schema uploaded successfully.\")\n",
    "        else:\n",
    "            raise Exception(\"Schema upload failed.\")\n",
    "    except:\n",
    "        raise Exception(\"Unexpected Error. Schema upload failed.\")"
   ]
  },
  {
   "cell_type": "markdown",
   "metadata": {},
   "source": [
    "### 1.6.- Clase para creación de embeddings (vectores)"
   ]
  },
  {
   "cell_type": "code",
   "execution_count": 6,
   "metadata": {},
   "outputs": [],
   "source": [
    "@retry(wait=wait_random_exponential(min=1, max=20), stop=stop_after_attempt(5))\n",
    "def generate_embeddings(text):\n",
    "    response = openai.Embedding.create(input=text, engine=embedding_model)\n",
    "    embeddings = response[\"data\"][0]['embedding']\n",
    "    return embeddings\n"
   ]
  },
  {
   "cell_type": "markdown",
   "metadata": {},
   "source": [
    "### 1.7.- Clase para conversion de fecha"
   ]
  },
  {
   "cell_type": "code",
   "execution_count": 7,
   "metadata": {},
   "outputs": [],
   "source": [
    "def convert_date_to_iso8601(date):\n",
    "    try:\n",
    "        date = date.strftime(\"%Y-%m-%dT%H:%M:%SZ\")\n",
    "    except:\n",
    "        print(\"Error converting date to ISO8601 format\")\n",
    "        date = None\n",
    "    return date"
   ]
  },
  {
   "cell_type": "markdown",
   "metadata": {},
   "source": [
    "### 1.8.- Clase para conversion de PDF"
   ]
  },
  {
   "cell_type": "code",
   "execution_count": 8,
   "metadata": {},
   "outputs": [],
   "source": [
    "def convert_pdfs_and_upload_to_index(root_dir, client):\n",
    "    data_list = []\n",
    "    total_files = sum(len(files) for _, _, files in os.walk(root_dir))\n",
    "    count = 0\n",
    "    \n",
    "    for dirpath, dirs, files in os.walk(root_dir):\n",
    "        for filename in fnmatch.filter(files, '*.pdf'):\n",
    "            count += 1\n",
    "            print(f\"Processing {filename} {count}/{total_files}\")\n",
    "            pdf_file = os.path.join(dirpath, filename)\n",
    "            \n",
    "            with open(pdf_file, 'rb') as fileobj:\n",
    "                pdf = PyPDF2.PdfReader(fileobj)\n",
    "                info = pdf.metadata\n",
    "                author = info.author\n",
    "                created_date = info.creation_date\n",
    "                mod_date = info.modification_date\n",
    "                num_pages = len(pdf.pages)\n",
    "\n",
    "                # loop through each page of the PDF\n",
    "                for i in range(num_pages):\n",
    "                    text = pdf.pages[i].extract_text()\n",
    "                    \n",
    "                    try:\n",
    "                        embeddings = generate_embeddings(text)\n",
    "                    except:\n",
    "                        print(f\"Error generating embeddings for {pdf_file}\")\n",
    "                        continue\n",
    "                    \n",
    "                    # create unique id for each page\n",
    "                    id_str = str(count) + \"_\" + str(i)\n",
    "                    \n",
    "                    data = {\n",
    "                        \"id\": id_str,\n",
    "                        \"filename\": os.path.basename(pdf_file),\n",
    "                        \"author\": author,\n",
    "                        \"page_number\": str(i+1),\n",
    "                        \"total_pages\": str(num_pages),\n",
    "                        \"content\": text,\n",
    "                        \"embeddings\": embeddings\n",
    "                    }\n",
    "                    \n",
    "                    data[\"created_date\"] = convert_date_to_iso8601(created_date)\n",
    "                    if not data[\"created_date\"]:\n",
    "                        continue\n",
    "                    \n",
    "                    data[\"last_modified_date\"] = convert_date_to_iso8601(mod_date)\n",
    "                    if not data[\"last_modified_date\"]:\n",
    "                        continue\n",
    "\n",
    "                    data_list.append(data)\n",
    "                \n",
    "    client.upload_documents(documents=data_list)\n",
    "    print(\"Done!\")"
   ]
  },
  {
   "cell_type": "markdown",
   "metadata": {},
   "source": [
    "## 2.- Crear indice"
   ]
  },
  {
   "cell_type": "markdown",
   "metadata": {},
   "source": [
    "### 2.1.- Creacion de instancias de clientes Azure Cognitive Search"
   ]
  },
  {
   "cell_type": "code",
   "execution_count": 9,
   "metadata": {},
   "outputs": [],
   "source": [
    "base_client = CreateClient(search_endpoint, search_service_key, search_index_name)\n",
    "search_client = base_client.create_search_client()\n",
    "admin_client = base_client.create_admin_client()"
   ]
  },
  {
   "cell_type": "markdown",
   "metadata": {},
   "source": [
    "### 2.2.- Creacion de indice y subida de data"
   ]
  },
  {
   "cell_type": "code",
   "execution_count": 11,
   "metadata": {},
   "outputs": [
    {
     "name": "stdout",
     "output_type": "stream",
     "text": [
      "Schema uploaded successfully.\n",
      "Processing DE03587-23.pdf 1/10\n",
      "Processing DE03590-23.pdf 2/10\n",
      "Processing DE03591-23.pdf 3/10\n",
      "Processing DE03592-23.pdf 4/10\n",
      "Processing DE03596-23.pdf 5/10\n",
      "Processing DE03597-23.pdf 6/10\n",
      "Processing DE03598-23.pdf 7/10\n",
      "Processing DE03599-23.pdf 8/10\n",
      "Processing DE03610-23.pdf 9/10\n",
      "Processing DE03612-23.pdf 10/10\n",
      "Done!\n",
      "Upload complete\n"
     ]
    }
   ],
   "source": [
    "schema = create_schema_from_json_and_upload(search_index_name, admin_client)\n",
    "convert_pdfs_and_upload_to_index(data_directory, search_client)\n",
    "print(\"Upload complete\")"
   ]
  },
  {
   "cell_type": "markdown",
   "metadata": {},
   "source": [
    "## 3.- Limpieza"
   ]
  },
  {
   "cell_type": "code",
   "execution_count": 10,
   "metadata": {},
   "outputs": [
    {
     "name": "stdout",
     "output_type": "stream",
     "text": [
      "Index deleted\n"
     ]
    }
   ],
   "source": [
    "# Clean up Azure resources\n",
    "admin_client.delete_index(search_index_name)\n",
    "print(\"Index deleted\")"
   ]
  }
 ],
 "metadata": {
  "kernelspec": {
   "display_name": ".venv",
   "language": "python",
   "name": "python3"
  },
  "language_info": {
   "codemirror_mode": {
    "name": "ipython",
    "version": 3
   },
   "file_extension": ".py",
   "mimetype": "text/x-python",
   "name": "python",
   "nbconvert_exporter": "python",
   "pygments_lexer": "ipython3",
   "version": "3.10.6"
  },
  "orig_nbformat": 4
 },
 "nbformat": 4,
 "nbformat_minor": 2
}
