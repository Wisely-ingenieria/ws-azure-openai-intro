{
 "cells": [
  {
   "cell_type": "markdown",
   "metadata": {},
   "source": [
    "## Búsqueda Semantica con Azure Search API"
   ]
  },
  {
   "cell_type": "markdown",
   "metadata": {},
   "source": [
    "### Importación de las librerías básicas necesarias"
   ]
  },
  {
   "cell_type": "code",
   "execution_count": null,
   "metadata": {},
   "outputs": [],
   "source": [
    "import json\n",
    "import openai\n",
    "import os\n",
    "import sys\n",
    "import time\n",
    "import PyPDF2\n",
    "import fnmatch\n",
    "from dotenv import load_dotenv\n",
    "from tenacity import retry, wait_random_exponential, stop_after_attempt\n",
    "\n",
    "from azure.core.credentials import AzureKeyCredential\n",
    "from azure.search.documents import SearchClient\n",
    "from azure.search.documents.indexes import SearchIndexClient\n",
    "from azure.search.documents.indexes.models import SearchIndex\n",
    "from azure.search.documents.models import Vector\n",
    "from azure.search.documents.indexes.models import (\n",
    "    ComplexField,\n",
    "    CorsOptions,\n",
    "    SearchIndex,\n",
    "    SemanticConfiguration,\n",
    "    PrioritizedFields,\n",
    "    SemanticField,\n",
    "    SemanticSettings,\n",
    "    VectorSearch,\n",
    "    HnswVectorSearchAlgorithmConfiguration,\n",
    "    ScoringProfile,\n",
    "    SearchField,\n",
    "    SearchFieldDataType,\n",
    "    SimpleField,\n",
    "    SearchableField,\n",
    ")"
   ]
  },
  {
   "cell_type": "markdown",
   "metadata": {},
   "source": [
    "### Obtención de variables desde el archivo .env"
   ]
  },
  {
   "cell_type": "code",
   "execution_count": null,
   "metadata": {},
   "outputs": [],
   "source": [
    "# Load secrets and config from .env file\n",
    "load_dotenv(\"../.env\")\n",
    "\n",
    "# OpenAI API\n",
    "openai.api_type = os.getenv(\"OPENAI_API_TYPE\")\n",
    "openai.api_base = os.getenv(\"OPENAI_API_BASE\")\n",
    "openai.api_version = os.getenv(\"OPENAI_API_VERSION\")\n",
    "openai.api_key = os.getenv(\"OPENAI_API_KEY\")\n",
    "embedding_model = os.getenv(\"OPENAI_EMBEDDING_MODEL\")\n",
    "print(\"OpenAI API key: {}\".format(openai.api_key[:5] + '...' + openai.api_key[-5:]))\n",
    "print(\"OpenAI API base: {}\".format(openai.api_base))\n",
    "print(\"OpenAI API version: {}\".format(openai.api_version))\n",
    "print(\"OpenAI API type: {}\".format(openai.api_type))\n",
    "\n",
    "# Azure Search API\n",
    "search_service_name = os.getenv(\"SEARCH_SERVICE_NAME\")\n",
    "search_service_key = os.getenv(\"SEARCH_SERVICE_KEY\")\n",
    "search_index_name = os.getenv(\"SEARCH_INDEX_NAME\")\n",
    "search_endpoint = \"https://{}.search.windows.net/\".format(search_service_name)\n",
    "search_vector_config_name = os.getenv(\"SEARCH_VECTOR_CONFIG_NAME\")\n",
    "search_semantic_config_name = os.getenv(\"SEARCH_SEMANTIC_CONFIG_NAME\")\n",
    "print(\"Azure Search service name: {}\".format(search_service_name))\n",
    "print(\"Azure Search service key: {}\".format(search_service_key[:5] + '...' + search_service_key[-5:]))\n",
    "print(\"Azure Search index name: {}\".format(search_index_name))\n",
    "print(\"Azure Search endpoint: {}\".format(search_endpoint))\n",
    "print(\"Azure Search vector config name: {}\".format(search_vector_config_name))\n",
    "print(\"Azure Search semantic config name: {}\".format(search_semantic_config_name))\n",
    "\n",
    "# Other variables\n",
    "data_directory = os.getenv(\"FILEPATH_TO_DATA\")\n",
    "index_schema = os.getenv(\"FILEPATH_TO_INDEX_SCHEMA\")\n",
    "print(\"Data directory: {}\".format(data_directory))\n",
    "print(\"Index schema: {}\".format(index_schema))"
   ]
  },
  {
   "cell_type": "markdown",
   "metadata": {},
   "source": [
    "### Creación de clase \"Cliente\" para la conexión con la API de Azure Search"
   ]
  },
  {
   "cell_type": "code",
   "execution_count": null,
   "metadata": {},
   "outputs": [],
   "source": [
    "# Instantiate a client\n",
    "class CreateClient(object):\n",
    "    def __init__(self, endpoint, key, index_name):\n",
    "        self.endpoint = endpoint\n",
    "        self.index_name = index_name\n",
    "        self.key = key\n",
    "        self.credentials = AzureKeyCredential(key)\n",
    "\n",
    "    # Create a SearchClient\n",
    "    # Use this to upload docs to the Index\n",
    "    def create_search_client(self):\n",
    "        return SearchClient(\n",
    "            endpoint=self.endpoint,\n",
    "            index_name=self.index_name,\n",
    "            credential=self.credentials,\n",
    "        )\n",
    "\n",
    "    # Create a SearchIndexClient\n",
    "    # This is used to create, manage, and delete an index\n",
    "    def create_admin_client(self):\n",
    "        return SearchIndexClient(endpoint=self.endpoint, credential=self.credentials)"
   ]
  },
  {
   "cell_type": "markdown",
   "metadata": {},
   "source": [
    "### Creación y carga del esquema de búsqueda"
   ]
  },
  {
   "cell_type": "code",
   "execution_count": null,
   "metadata": {},
   "outputs": [],
   "source": [
    "# Create Search Index\n",
    "def create_schema_from_json_and_upload(index_name, admin_client):\n",
    "\n",
    "    # Define CORS options for the index\n",
    "    cors_options = CorsOptions(allowed_origins=[\"*\"], max_age_in_seconds=60)\n",
    "\n",
    "    # Initialize an empty list for scoring profiles\n",
    "    scoring_profiles = []\n",
    "\n",
    "    # Define the fields for the search index\n",
    "    fields = [\n",
    "        SimpleField(name=\"id\", type=SearchFieldDataType.String, key=True, sortable=True, filterable=True, facetable=True),\n",
    "        SearchableField(name=\"filename\", type=SearchFieldDataType.String),\n",
    "        SearchableField(name=\"author\", type=SearchFieldDataType.String),\n",
    "        SearchableField(name=\"created_date\", type=SearchFieldDataType.DateTimeOffset),\n",
    "        SearchableField(name=\"last_modified_date\", type=SearchFieldDataType.DateTimeOffset),\n",
    "        SearchableField(name=\"page_number\", type=SearchFieldDataType.Int32),\n",
    "        SearchableField(name=\"total_pages\", type=SearchFieldDataType.Int32),\n",
    "        SearchableField(name=\"content\", type=SearchFieldDataType.String),\n",
    "    ]\n",
    "\n",
    "    # Define the semantic configuration for the index\n",
    "    semantic_config = SemanticConfiguration(\n",
    "        name=search_semantic_config_name,\n",
    "        prioritized_fields=PrioritizedFields(\n",
    "            title_field=SemanticField(field_name=\"filename\"),\n",
    "            prioritized_content_fields=[SemanticField(field_name=\"content\")]\n",
    "        )\n",
    "    )\n",
    "\n",
    "    # Create the semantic settings with the configuration\n",
    "    semantic_settings = SemanticSettings(configurations=[semantic_config])\n",
    "\n",
    "    # Create the SearchIndex object\n",
    "    index = SearchIndex(\n",
    "        name=index_name,\n",
    "        fields=fields,\n",
    "        scoring_profiles=scoring_profiles,\n",
    "        semantic_settings=semantic_settings,\n",
    "        cors_options=cors_options,\n",
    "    )\n",
    "\n",
    "    try:\n",
    "        # Upload the schema to the Azure Cognitive Search service\n",
    "        upload_schema = admin_client.create_index(index)\n",
    "        if upload_schema:\n",
    "            print(\"Schema uploaded successfully.\")\n",
    "        else:\n",
    "            raise Exception(\"Schema upload failed.\")\n",
    "    except:\n",
    "        raise Exception(\"Unexpected Error. Schema upload failed.\")\n"
   ]
  },
  {
   "cell_type": "markdown",
   "metadata": {},
   "source": [
    "### Conversión de fecha a formato ISO8601"
   ]
  },
  {
   "cell_type": "code",
   "execution_count": null,
   "metadata": {},
   "outputs": [],
   "source": [
    "@retry(wait=wait_random_exponential(min=1, max=20), stop=stop_after_attempt(5))\n",
    "def convert_date_to_iso8601(date):\n",
    "    try:\n",
    "        date = date.strftime(\"%Y-%m-%dT%H:%M:%SZ\")\n",
    "    except:\n",
    "        print(\"Error converting date to ISO8601 format\")\n",
    "        date = None\n",
    "    return date"
   ]
  },
  {
   "cell_type": "markdown",
   "metadata": {},
   "source": [
    "### Conversión y carga del contenido de PDFs al índice de búsqueda"
   ]
  },
  {
   "cell_type": "code",
   "execution_count": null,
   "metadata": {},
   "outputs": [],
   "source": [
    "# Función para convertir PDFs y cargar en el índice\n",
    "def convert_pdfs_and_upload_to_index(root_dir, client):\n",
    "    data_list = []  # Lista para almacenar los datos procesados\n",
    "    total_files = sum(len(files) for _, _, files in os.walk(root_dir))  # Contador total de archivos\n",
    "    count = 0  # Contador de progreso\n",
    "\n",
    "    # Recorrido por directorios y archivos\n",
    "    for dirpath, dirs, files in os.walk(root_dir):\n",
    "        for filename in fnmatch.filter(files, '*.pdf'):\n",
    "            count += 1\n",
    "            print(f\"Processing {filename} {count}/{total_files}\")\n",
    "            pdf_file = os.path.join(dirpath, filename)\n",
    "\n",
    "            # Apertura del archivo PDF\n",
    "            with open(pdf_file, 'rb') as fileobj:\n",
    "                pdf = PyPDF2.PdfReader(fileobj)\n",
    "                info = pdf.metadata\n",
    "                author = info.author\n",
    "                created_date = info.creation_date\n",
    "                mod_date = info.modification_date\n",
    "                num_pages = len(pdf.pages)\n",
    "\n",
    "                # Recorrido por cada página del PDF\n",
    "                for i in range(num_pages):\n",
    "                    text = pdf.pages[i].extract_text()\n",
    "\n",
    "                    # Crear un ID único para cada página\n",
    "                    id_str = str(count) + \"_\" + str(i)\n",
    "\n",
    "                    # Creación de un diccionario con los datos\n",
    "                    data = {\n",
    "                        \"id\": id_str,\n",
    "                        \"filename\": os.path.basename(pdf_file),\n",
    "                        \"author\": author,\n",
    "                        \"page_number\": str(i+1),\n",
    "                        \"total_pages\": str(num_pages),\n",
    "                        \"content\": text,\n",
    "                    }\n",
    "\n",
    "                    # Conversión de fechas a formato ISO8601\n",
    "                    data[\"created_date\"] = convert_date_to_iso8601(created_date)\n",
    "                    if not data[\"created_date\"]:\n",
    "                        continue\n",
    "\n",
    "                    data[\"last_modified_date\"] = convert_date_to_iso8601(mod_date)\n",
    "                    if not data[\"last_modified_date\"]:\n",
    "                        continue\n",
    "\n",
    "                    data_list.append(data)  # Agregar datos a la lista\n",
    "\n",
    "    client.upload_documents(documents=data_list)  # Cargar documentos en el índice\n",
    "    print(\"Done!\")  # Indicar finalización\n"
   ]
  },
  {
   "cell_type": "markdown",
   "metadata": {},
   "source": [
    "### Configuración de \"Cliente\" para la búsqueda"
   ]
  },
  {
   "cell_type": "code",
   "execution_count": null,
   "metadata": {},
   "outputs": [],
   "source": [
    "base_client = CreateClient(search_endpoint, search_service_key, search_index_name)\n",
    "search_client = base_client.create_search_client()\n",
    "admin_client = base_client.create_admin_client()"
   ]
  },
  {
   "cell_type": "markdown",
   "metadata": {},
   "source": [
    "### Asignación de esquema de búsqueda y carga de contenido"
   ]
  },
  {
   "cell_type": "code",
   "execution_count": null,
   "metadata": {},
   "outputs": [],
   "source": [
    "schema = create_schema_from_json_and_upload(search_index_name, admin_client)\n",
    "convert_pdfs_and_upload_to_index(data_directory, search_client)\n",
    "print(\"Upload complete\")"
   ]
  },
  {
   "cell_type": "markdown",
   "metadata": {},
   "source": [
    "### Búsqueda simple de texto"
   ]
  },
  {
   "cell_type": "code",
   "execution_count": null,
   "metadata": {},
   "outputs": [],
   "source": [
    "results =  search_client.search(query_type='simple',\n",
    "    query_language='es-es',\n",
    "    search_text=\"cual utiliza tecnologia javascript y python?\" ,\n",
    "    select='filename,content',\n",
    "    include_total_count=True)\n",
    "\n",
    "for result in results:\n",
    "    print(f\"{result['filename']} -> {result['@search.score']}\")"
   ]
  },
  {
   "cell_type": "markdown",
   "metadata": {},
   "source": [
    "### Búsqueda semántica de texto"
   ]
  },
  {
   "cell_type": "code",
   "execution_count": null,
   "metadata": {},
   "outputs": [],
   "source": [
    "results =  search_client.search(query_type='semantic', query_language='es-es', semantic_configuration_name='test-search-semantic-config2',\n",
    "    search_text=\"cual utiliza tecnologia javascript y python?\" ,\n",
    "    select='filename, content', query_caption='extractive')\n",
    "\n",
    "for result in results:\n",
    "    print(result[\"@search.reranker_score\"])\n",
    "    print(result[\"filename\"])\n",
    "    \n",
    "    captions = result[\"@search.captions\"]\n",
    "    if captions:\n",
    "        caption = captions[0]\n",
    "        if caption.highlights:\n",
    "            print(f\"Caption: {caption.highlights}\\n\")\n",
    "        else:\n",
    "            print(f\"Caption: {caption.text}\\n\")"
   ]
  },
  {
   "cell_type": "markdown",
   "metadata": {},
   "source": [
    "### Eliminación de índice de búsqueda"
   ]
  },
  {
   "cell_type": "code",
   "execution_count": null,
   "metadata": {},
   "outputs": [],
   "source": [
    "# Clean up Azure resources\n",
    "admin_client.delete_index(search_index_name)\n",
    "print(\"Index deleted\")"
   ]
  }
 ],
 "metadata": {
  "kernelspec": {
   "display_name": ".venv",
   "language": "python",
   "name": "python3"
  },
  "language_info": {
   "codemirror_mode": {
    "name": "ipython",
    "version": 3
   },
   "file_extension": ".py",
   "mimetype": "text/x-python",
   "name": "python",
   "nbconvert_exporter": "python",
   "pygments_lexer": "ipython3",
   "version": "3.9.17"
  },
  "orig_nbformat": 4
 },
 "nbformat": 4,
 "nbformat_minor": 2
}
